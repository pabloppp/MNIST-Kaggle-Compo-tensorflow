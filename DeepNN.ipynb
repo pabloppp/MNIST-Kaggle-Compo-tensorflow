{
 "cells": [
  {
   "cell_type": "code",
   "execution_count": 41,
   "metadata": {
    "collapsed": true
   },
   "outputs": [],
   "source": [
    "import numpy as np\n",
    "import tensorflow as tf\n",
    "from tensorflow.python.framework import ops\n",
    "import pandas as pd\n",
    "import matplotlib.pyplot as plt\n",
    "import time\n",
    "\n",
    "np.random.seed(1)"
   ]
  },
  {
   "cell_type": "code",
   "execution_count": 76,
   "metadata": {},
   "outputs": [
    {
     "name": "stdout",
     "output_type": "stream",
     "text": [
      "(784, 42000) (10, 42000)\n"
     ]
    }
   ],
   "source": [
    "ground_truth = pd.read_csv(\"train.csv\").as_matrix().T\n",
    "data_X = ground_truth[1:] / 255\n",
    "data_Y = np.eye(10)[ground_truth[:1].reshape(-1)].T\n",
    "\n",
    "input_layer_size = data_X.shape[0]\n",
    "output_layer_size = data_Y.shape[0]\n",
    "\n",
    "print(data_X.shape, data_Y.shape)"
   ]
  },
  {
   "cell_type": "markdown",
   "metadata": {},
   "source": [
    "### Create placeholder (X, Y)"
   ]
  },
  {
   "cell_type": "code",
   "execution_count": 47,
   "metadata": {},
   "outputs": [
    {
     "name": "stdout",
     "output_type": "stream",
     "text": [
      "(<tf.Tensor 'X:0' shape=(784, ?) dtype=float32>, <tf.Tensor 'Y:0' shape=(10, ?) dtype=float32>)\n"
     ]
    }
   ],
   "source": [
    "def create_placeholders(s_x, s_y):\n",
    "    X = tf.placeholder(tf.float32, name = \"X\", shape = [s_x, None])\n",
    "    Y = tf.placeholder(tf.float32, name = \"Y\", shape = [s_y, None])\n",
    "    \n",
    "    return X, Y\n",
    "\n",
    "tf.reset_default_graph()\n",
    "print (create_placeholders(input_layer_size, output_layer_size))"
   ]
  },
  {
   "cell_type": "markdown",
   "metadata": {},
   "source": [
    "### Initialize parameters"
   ]
  },
  {
   "cell_type": "code",
   "execution_count": 49,
   "metadata": {},
   "outputs": [
    {
     "name": "stdout",
     "output_type": "stream",
     "text": [
      "{'W1': <tf.Variable 'W1:0' shape=(30, 784) dtype=float32_ref>, 'b1': <tf.Variable 'b1:0' shape=(30, 1) dtype=float32_ref>, 'W2': <tf.Variable 'W2:0' shape=(10, 30) dtype=float32_ref>, 'b2': <tf.Variable 'b2:0' shape=(10, 1) dtype=float32_ref>}\n"
     ]
    }
   ],
   "source": [
    "def initialize_parameters(layer_sizes):\n",
    "    tf.set_random_seed(1)\n",
    "    parameters = {}\n",
    "\n",
    "    for i in range(1, len(layer_sizes)):\n",
    "        parameters[\"W\" + str(i)] = tf.get_variable(\"W\" + str(i), [layer_sizes[i], layer_sizes[i-1]], initializer = tf.contrib.layers.xavier_initializer(seed = 1))\n",
    "        parameters[\"b\" + str(i)] = tf.get_variable(\"b\" + str(i), [layer_sizes[i], 1], initializer = tf.zeros_initializer())\n",
    "        \n",
    "    return parameters\n",
    "    \n",
    "tf.reset_default_graph()\n",
    "print(initialize_parameters([input_layer_size, 30, output_layer_size])) #2400, 1400, 800\n",
    "\n"
   ]
  },
  {
   "cell_type": "code",
   "execution_count": 63,
   "metadata": {
    "collapsed": true
   },
   "outputs": [],
   "source": [
    "def forward_propagation(X, parameters):\n",
    "    L = len(parameters) // 2\n",
    "    A = X\n",
    "    for i in range(L):\n",
    "        W = parameters[\"W\" + str(i + 1)]\n",
    "        b = parameters[\"b\" + str(i + 1)]\n",
    "        Z = tf.add(tf.matmul(W, A), b)\n",
    "        if i < L-1:\n",
    "            A = tf.nn.relu(Z)\n",
    "        else:\n",
    "            A = Z\n",
    "    return A"
   ]
  },
  {
   "cell_type": "code",
   "execution_count": 64,
   "metadata": {},
   "outputs": [
    {
     "name": "stdout",
     "output_type": "stream",
     "text": [
      "ZL = Tensor(\"Add_1:0\", shape=(10, ?), dtype=float32)\n"
     ]
    }
   ],
   "source": [
    "tf.reset_default_graph()\n",
    "with tf.Session() as sess:\n",
    "    X, Y = create_placeholders(input_layer_size, output_layer_size)\n",
    "    parameters = initialize_parameters([input_layer_size, 30, output_layer_size])\n",
    "    ZL = forward_propagation(X, parameters)\n",
    "    print(\"ZL = \" + str(ZL))"
   ]
  },
  {
   "cell_type": "code",
   "execution_count": 65,
   "metadata": {
    "collapsed": true
   },
   "outputs": [],
   "source": [
    "def compute_cost(ZL, Y):\n",
    "    logits = tf.transpose(ZL)\n",
    "    labels = tf.transpose(Y)\n",
    "    \n",
    "    cost = tf.reduce_mean(tf.nn.softmax_cross_entropy_with_logits(logits = logits, labels = labels))\n",
    "    return cost"
   ]
  },
  {
   "cell_type": "code",
   "execution_count": 66,
   "metadata": {},
   "outputs": [
    {
     "name": "stdout",
     "output_type": "stream",
     "text": [
      "cost = Tensor(\"Mean:0\", shape=(), dtype=float32)\n"
     ]
    }
   ],
   "source": [
    "tf.reset_default_graph()\n",
    "with tf.Session() as sess:\n",
    "    X, Y = create_placeholders(input_layer_size, output_layer_size)\n",
    "    parameters = initialize_parameters([input_layer_size, 30, output_layer_size])\n",
    "    ZL = forward_propagation(X, parameters)\n",
    "    cost = compute_cost(ZL, Y)\n",
    "    print(\"cost = \" + str(cost))"
   ]
  },
  {
   "cell_type": "markdown",
   "metadata": {},
   "source": [
    "## Model"
   ]
  },
  {
   "cell_type": "code",
   "execution_count": 104,
   "metadata": {},
   "outputs": [],
   "source": [
    "def model(num_epochs = 300):\n",
    "    ops.reset_default_graph() \n",
    "    tf.set_random_seed(1)\n",
    "    seed = 3\n",
    "    \n",
    "    #hyper parameters\n",
    "    learning_rate = 0.0001\n",
    "    minibatch_size = 64\n",
    "\n",
    "    costs = []\n",
    "    accuracies_train = []\n",
    "    accuracies_test = []\n",
    "    \n",
    "    # params\n",
    "    X, Y = create_placeholders(input_layer_size, output_layer_size)\n",
    "    parameters = initialize_parameters([input_layer_size, 30, output_layer_size])\n",
    "    #forward prop\n",
    "    ZL = forward_propagation(X, parameters)\n",
    "    #cost\n",
    "    cost = compute_cost(ZL, Y)\n",
    "    #optimizer\n",
    "    optimizer = tf.train.AdamOptimizer(learning_rate = learning_rate).minimize(cost)\n",
    "    \n",
    "    init = tf.global_variables_initializer()\n",
    "    \n",
    "    data_X_train = data_X[:, :29400]\n",
    "    data_Y_train = data_Y[:, :29400]\n",
    "    data_X_test = data_X[:, 29400:]\n",
    "    data_Y_test = data_Y[:, 29400:]\n",
    "    \n",
    "    minibatch_count = (data_Y_train.shape[1] // minibatch_size) + 1\n",
    "    \n",
    "    #define accuracy fn\n",
    "    correct_prediction = tf.equal(tf.argmax(ZL), tf.argmax(Y))        \n",
    "    accuracy = tf.reduce_mean(tf.cast(correct_prediction, \"float\"))\n",
    "    \n",
    "    with tf.Session() as sess:\n",
    "        sess.run(init)\n",
    "        \n",
    "        for epoch in range(num_epochs):\n",
    "            \n",
    "            epoch_cost = 0. \n",
    "            for i in range(minibatch_count):\n",
    "                data_X_minibatch = data_X_train[:, i*minibatch_size:(i+1)*minibatch_size]\n",
    "                data_Y_minibatch = data_Y_train[:, i*minibatch_size:(i+1)*minibatch_size]\n",
    "            \n",
    "                # compute cost\n",
    "                _ , batch_cost = sess.run([optimizer, cost], feed_dict={X: data_X_minibatch, Y: data_Y_minibatch})\n",
    "                epoch_cost += batch_cost / minibatch_count\n",
    "            \n",
    "            costs.append(epoch_cost)\n",
    "            if epoch % 20 == 0:\n",
    "                train_accuracy = accuracy.eval({X: data_X_train, Y: data_Y_train})\n",
    "                test_accuracy = accuracy.eval({X: data_X_test, Y: data_Y_test})\n",
    "                accuracies_train.append(train_accuracy)\n",
    "                accuracies_test.append(test_accuracy)\n",
    "                \n",
    "                print (\"Cost after epoch %i: %f\" % (epoch, epoch_cost))\n",
    "                print (\"Accuracies after epoch %i: train %f - test %f\" % (epoch, train_accuracy, test_accuracy))\n",
    "                \n",
    "        correct_prediction = tf.equal(tf.argmax(ZL), tf.argmax(Y))        \n",
    "        accuracy = tf.reduce_mean(tf.cast(correct_prediction, \"float\"))\n",
    "        print (\"Train Accuracy:\", accuracy.eval({X: data_X_train, Y: data_Y_train}))\n",
    "        print (\"Test Accuracy:\", accuracy.eval({X: data_X_test, Y: data_Y_test}))\n",
    "            \n",
    "        plt.figure()\n",
    "        plt.plot(costs)  # plott cost fn\n",
    "        plt.legend(['cost'])\n",
    "        \n",
    "        plt.figure()\n",
    "        plt.plot(accuracies_train)  # plott accuracy fn\n",
    "        plt.plot(accuracies_test)  # plott accuracy fn\n",
    "        plt.legend(['accuracy train', 'accuracy test'])\n",
    "\n",
    "        plt.show()"
   ]
  },
  {
   "cell_type": "code",
   "execution_count": null,
   "metadata": {},
   "outputs": [
    {
     "name": "stdout",
     "output_type": "stream",
     "text": [
      "Cost after epoch 0: 0.467755\n",
      "Accuracies after epoch 0: train 0.922857 - test 0.922381\n",
      "Cost after epoch 20: 0.036678\n",
      "Accuracies after epoch 20: train 0.986361 - test 0.957857\n",
      "Cost after epoch 40: 0.006269\n",
      "Accuracies after epoch 40: train 0.993878 - test 0.956825\n",
      "Cost after epoch 60: 0.001107\n",
      "Accuracies after epoch 60: train 0.998810 - test 0.958095\n",
      "Cost after epoch 80: 0.006918\n",
      "Accuracies after epoch 80: train 0.995374 - test 0.955952\n",
      "Cost after epoch 100: 0.003068\n",
      "Accuracies after epoch 100: train 0.999456 - test 0.958175\n",
      "Cost after epoch 120: 0.000079\n",
      "Accuracies after epoch 120: train 1.000000 - test 0.958095\n"
     ]
    }
   ],
   "source": [
    "model()"
   ]
  },
  {
   "cell_type": "code",
   "execution_count": null,
   "metadata": {
    "collapsed": true
   },
   "outputs": [],
   "source": []
  }
 ],
 "metadata": {
  "kernelspec": {
   "display_name": "Python 3",
   "language": "python",
   "name": "python3"
  },
  "language_info": {
   "codemirror_mode": {
    "name": "ipython",
    "version": 3
   },
   "file_extension": ".py",
   "mimetype": "text/x-python",
   "name": "python",
   "nbconvert_exporter": "python",
   "pygments_lexer": "ipython3",
   "version": "3.6.0"
  }
 },
 "nbformat": 4,
 "nbformat_minor": 2
}

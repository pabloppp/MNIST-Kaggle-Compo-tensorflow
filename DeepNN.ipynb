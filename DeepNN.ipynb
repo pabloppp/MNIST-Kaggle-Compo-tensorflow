{
 "cells": [
  {
   "cell_type": "code",
   "execution_count": 41,
   "metadata": {
    "collapsed": true
   },
   "outputs": [],
   "source": [
    "import numpy as np\n",
    "import tensorflow as tf\n",
    "from tensorflow.python.framework import ops\n",
    "import pandas as pd\n",
    "import matplotlib.pyplot as plt\n",
    "import time\n",
    "\n",
    "np.random.seed(1)"
   ]
  },
  {
   "cell_type": "code",
   "execution_count": 76,
   "metadata": {},
   "outputs": [
    {
     "name": "stdout",
     "output_type": "stream",
     "text": [
      "(784, 42000) (10, 42000)\n"
     ]
    }
   ],
   "source": [
    "ground_truth = pd.read_csv(\"train.csv\").as_matrix().T\n",
    "data_X = ground_truth[1:] / 255\n",
    "data_Y = np.eye(10)[ground_truth[:1].reshape(-1)].T\n",
    "\n",
    "input_layer_size = data_X.shape[0]\n",
    "output_layer_size = data_Y.shape[0]\n",
    "\n",
    "print(data_X.shape, data_Y.shape)"
   ]
  },
  {
   "cell_type": "markdown",
   "metadata": {},
   "source": [
    "### Create placeholder (X, Y)"
   ]
  },
  {
   "cell_type": "code",
   "execution_count": 217,
   "metadata": {},
   "outputs": [
    {
     "name": "stdout",
     "output_type": "stream",
     "text": [
      "(<tf.Tensor 'X:0' shape=(784, ?) dtype=float32>, <tf.Tensor 'Y:0' shape=(10, ?) dtype=float32>, <tf.Tensor 'k:0' shape=<unknown> dtype=float32>)\n"
     ]
    }
   ],
   "source": [
    "def create_placeholders(s_x, s_y):\n",
    "    X = tf.placeholder(tf.float32, name = \"X\", shape = [s_x, None])\n",
    "    Y = tf.placeholder(tf.float32, name = \"Y\", shape = [s_y, None])\n",
    "    k = tf.placeholder(tf.float32, name = \"k\")\n",
    "    \n",
    "    return X, Y, k\n",
    "\n",
    "tf.reset_default_graph()\n",
    "print (create_placeholders(input_layer_size, output_layer_size))"
   ]
  },
  {
   "cell_type": "markdown",
   "metadata": {},
   "source": [
    "### Initialize parameters"
   ]
  },
  {
   "cell_type": "code",
   "execution_count": 218,
   "metadata": {},
   "outputs": [
    {
     "name": "stdout",
     "output_type": "stream",
     "text": [
      "{'W1': <tf.Variable 'W1:0' shape=(30, 784) dtype=float32_ref>, 'b1': <tf.Variable 'b1:0' shape=(30, 1) dtype=float32_ref>, 'W2': <tf.Variable 'W2:0' shape=(10, 30) dtype=float32_ref>, 'b2': <tf.Variable 'b2:0' shape=(10, 1) dtype=float32_ref>}\n"
     ]
    }
   ],
   "source": [
    "def initialize_parameters(layer_sizes):\n",
    "    tf.set_random_seed(1)\n",
    "    parameters = {}\n",
    "\n",
    "    for i in range(1, len(layer_sizes)):\n",
    "        parameters[\"W\" + str(i)] = tf.get_variable(\"W\" + str(i), [layer_sizes[i], layer_sizes[i-1]], initializer = tf.contrib.layers.xavier_initializer(seed = 1))\n",
    "        parameters[\"b\" + str(i)] = tf.get_variable(\"b\" + str(i), [layer_sizes[i], 1], initializer = tf.zeros_initializer())\n",
    "        \n",
    "    return parameters\n",
    "    \n",
    "tf.reset_default_graph()\n",
    "print(initialize_parameters([input_layer_size, 30, output_layer_size])) #2400, 1400, 800\n",
    "\n"
   ]
  },
  {
   "cell_type": "code",
   "execution_count": 219,
   "metadata": {
    "collapsed": true
   },
   "outputs": [],
   "source": [
    "def forward_propagation(X, parameters, k):\n",
    "    L = len(parameters) // 2\n",
    "    A = X\n",
    "    for i in range(L):\n",
    "        W = parameters[\"W\" + str(i + 1)]\n",
    "        if i < L-1:\n",
    "            W = tf.nn.dropout(W, k)\n",
    "        b = parameters[\"b\" + str(i + 1)]\n",
    "        Z = tf.add(tf.matmul(W, A), b)\n",
    "        if i < L-1:\n",
    "            A = tf.nn.relu(Z)\n",
    "        else:\n",
    "            A = Z\n",
    "    return A"
   ]
  },
  {
   "cell_type": "code",
   "execution_count": 220,
   "metadata": {},
   "outputs": [
    {
     "name": "stdout",
     "output_type": "stream",
     "text": [
      "ZL = Tensor(\"Add_1:0\", shape=(10, ?), dtype=float32)\n"
     ]
    }
   ],
   "source": [
    "tf.reset_default_graph()\n",
    "with tf.Session() as sess:\n",
    "    X, Y, k = create_placeholders(input_layer_size, output_layer_size)\n",
    "    parameters = initialize_parameters([input_layer_size, 30, output_layer_size])\n",
    "    ZL = forward_propagation(X, parameters, k)\n",
    "    print(\"ZL = \" + str(ZL))"
   ]
  },
  {
   "cell_type": "code",
   "execution_count": 221,
   "metadata": {
    "collapsed": true
   },
   "outputs": [],
   "source": [
    "def compute_cost(ZL, Y,):\n",
    "    L = len(parameters) // 2\n",
    "    logits = tf.transpose(ZL)\n",
    "    labels = tf.transpose(Y)\n",
    "    \n",
    "    cost = tf.reduce_mean(tf.nn.softmax_cross_entropy_with_logits(logits = logits, labels = labels))\n",
    "    return cost"
   ]
  },
  {
   "cell_type": "code",
   "execution_count": 222,
   "metadata": {},
   "outputs": [
    {
     "name": "stdout",
     "output_type": "stream",
     "text": [
      "cost = Tensor(\"Mean:0\", shape=(), dtype=float32)\n"
     ]
    }
   ],
   "source": [
    "tf.reset_default_graph()\n",
    "with tf.Session() as sess:\n",
    "    X, Y, k = create_placeholders(input_layer_size, output_layer_size)\n",
    "    parameters = initialize_parameters([input_layer_size, 30, output_layer_size])\n",
    "    ZL = forward_propagation(X, parameters, k)\n",
    "    cost = compute_cost(ZL, Y)\n",
    "    print(\"cost = \" + str(cost))"
   ]
  },
  {
   "cell_type": "markdown",
   "metadata": {},
   "source": [
    "## Model"
   ]
  },
  {
   "cell_type": "code",
   "execution_count": 235,
   "metadata": {},
   "outputs": [],
   "source": [
    "def model(num_epochs = 300):\n",
    "    ops.reset_default_graph() \n",
    "    tf.set_random_seed(1)\n",
    "    seed = 3\n",
    "    \n",
    "    #hyper parameters\n",
    "    learning_rate = 0.0001\n",
    "    minibatch_size = 64\n",
    "    keep_probs = 0.3\n",
    "    \n",
    "    costs = []\n",
    "    accuracies_train = []\n",
    "    accuracies_test = []\n",
    "    \n",
    "    # params\n",
    "    X, Y, k = create_placeholders(input_layer_size, output_layer_size)\n",
    "    parameters = initialize_parameters([input_layer_size, 1000, 1000, 784, 128, output_layer_size])\n",
    "    #forward prop\n",
    "    ZL = forward_propagation(X, parameters, k)\n",
    "    #cost\n",
    "    cost = compute_cost(ZL, Y)\n",
    "    #optimizer\n",
    "    optimizer = tf.train.AdamOptimizer(learning_rate = learning_rate).minimize(cost)\n",
    "    \n",
    "    init = tf.global_variables_initializer()\n",
    "    \n",
    "    data_X_train = data_X[:, :29400]\n",
    "    data_Y_train = data_Y[:, :29400]\n",
    "    data_X_test = data_X[:, 29400:]\n",
    "    data_Y_test = data_Y[:, 29400:]\n",
    "    \n",
    "    minibatch_count = (data_Y_train.shape[1] // minibatch_size) + 1\n",
    "    \n",
    "    #define accuracy fn\n",
    "    correct_prediction = tf.equal(tf.argmax(ZL), tf.argmax(Y))        \n",
    "    accuracy = tf.reduce_mean(tf.cast(correct_prediction, \"float\"))\n",
    "    \n",
    "    #prediction\n",
    "    prediction = tf.argmax(ZL)\n",
    "    \n",
    "    with tf.Session() as sess:\n",
    "        sess.run(init)\n",
    "        \n",
    "        for epoch in range(num_epochs):\n",
    "            \n",
    "            epoch_cost = 0. \n",
    "            for i in range(minibatch_count):\n",
    "                data_X_minibatch = data_X_train[:, i*minibatch_size:(i+1)*minibatch_size]\n",
    "                data_Y_minibatch = data_Y_train[:, i*minibatch_size:(i+1)*minibatch_size]\n",
    "            \n",
    "                # compute cost\n",
    "                _ , batch_cost = sess.run([optimizer, cost], feed_dict={X: data_X_minibatch, Y: data_Y_minibatch, k: keep_probs})\n",
    "                epoch_cost += batch_cost / minibatch_count\n",
    "            \n",
    "            costs.append(epoch_cost)\n",
    "            if epoch % 4 == 0:\n",
    "                train_accuracy = accuracy.eval({X: data_X_train, Y: data_Y_train, k: 1})\n",
    "                test_accuracy = accuracy.eval({X: data_X_test, Y: data_Y_test, k: 1})\n",
    "                accuracies_train.append(train_accuracy)\n",
    "                accuracies_test.append(test_accuracy)\n",
    "                \n",
    "                print (\"Cost after epoch %i: %f\" % (epoch, epoch_cost))\n",
    "                print (\"Accuracies after epoch %i: train %f - test %f\" % (epoch, train_accuracy, test_accuracy))\n",
    "                \n",
    "        print (\"Train Accuracy:\", accuracy.eval({X: data_X_train, Y: data_Y_train, k: 1}))\n",
    "        print (\"Test Accuracy:\", accuracy.eval({X: data_X_test, Y: data_Y_test, k: 1}))\n",
    "        \n",
    "        # compute prediction\n",
    "        compo_data = pd.read_csv(\"test.csv\").as_matrix().T\n",
    "        X_compo = compo_data / 255\n",
    "        print(\"X_compo:\", X_compo.shape)\n",
    "        submissions = prediction.eval({X: X_compo, k: 1})\n",
    "        df = pd.DataFrame(submissions.T, columns=['Label'])\n",
    "        df.index += 1\n",
    "        df.to_csv('submission.csv', index=True, index_label='ImageId')\n",
    "\n",
    "        print(\"Prediction saved!\")\n",
    "           \n",
    "        # plot costs and accuracies\n",
    "        plt.figure()\n",
    "        plt.plot(costs)  # plott cost fn\n",
    "        plt.legend(['cost'])\n",
    "        \n",
    "        plt.figure()\n",
    "        plt.plot(accuracies_train)  # plott accuracy fn\n",
    "        plt.plot(accuracies_test)  # plott accuracy fn\n",
    "        plt.legend(['accuracy train', 'accuracy test'])\n",
    "\n",
    "        plt.show()"
   ]
  },
  {
   "cell_type": "code",
   "execution_count": 236,
   "metadata": {},
   "outputs": [
    {
     "name": "stdout",
     "output_type": "stream",
     "text": [
      "Cost after epoch 0: 2.539790\n",
      "Accuracies after epoch 0: train 0.531599 - test 0.531270\n",
      "Cost after epoch 4: 0.915142\n",
      "Accuracies after epoch 4: train 0.769150 - test 0.768809\n",
      "Cost after epoch 8: 0.519864\n",
      "Accuracies after epoch 8: train 0.893265 - test 0.891429\n",
      "Cost after epoch 12: 0.375161\n",
      "Accuracies after epoch 12: train 0.926565 - test 0.924603\n",
      "Cost after epoch 16: 0.291470\n",
      "Accuracies after epoch 16: train 0.942721 - test 0.939524\n",
      "Cost after epoch 20: 0.232099\n",
      "Accuracies after epoch 20: train 0.954184 - test 0.950079\n",
      "Cost after epoch 24: 0.196212\n",
      "Accuracies after epoch 24: train 0.962891 - test 0.956349\n",
      "Cost after epoch 28: 0.172644\n",
      "Accuracies after epoch 28: train 0.969524 - test 0.962857\n",
      "Cost after epoch 32: 0.148001\n",
      "Accuracies after epoch 32: train 0.974388 - test 0.965238\n",
      "Cost after epoch 36: 0.135288\n",
      "Accuracies after epoch 36: train 0.977245 - test 0.967937\n",
      "Cost after epoch 40: 0.124244\n",
      "Accuracies after epoch 40: train 0.980102 - test 0.969206\n",
      "Cost after epoch 44: 0.110219\n",
      "Accuracies after epoch 44: train 0.982075 - test 0.970476\n",
      "Cost after epoch 48: 0.101452\n",
      "Accuracies after epoch 48: train 0.984456 - test 0.971587\n",
      "Cost after epoch 52: 0.094448\n",
      "Accuracies after epoch 52: train 0.986122 - test 0.972540\n",
      "Cost after epoch 56: 0.090215\n",
      "Accuracies after epoch 56: train 0.987755 - test 0.973810\n",
      "Cost after epoch 60: 0.081825\n",
      "Accuracies after epoch 60: train 0.988639 - test 0.973889\n",
      "Cost after epoch 64: 0.078855\n",
      "Accuracies after epoch 64: train 0.989252 - test 0.974286\n",
      "Cost after epoch 68: 0.072163\n",
      "Accuracies after epoch 68: train 0.991156 - test 0.975952\n",
      "Cost after epoch 72: 0.065190\n",
      "Accuracies after epoch 72: train 0.992381 - test 0.975714\n",
      "Cost after epoch 76: 0.062333\n",
      "Accuracies after epoch 76: train 0.993095 - test 0.976667\n",
      "Cost after epoch 80: 0.057433\n",
      "Accuracies after epoch 80: train 0.993367 - test 0.976508\n",
      "Cost after epoch 84: 0.055388\n",
      "Accuracies after epoch 84: train 0.994388 - test 0.975952\n",
      "Cost after epoch 88: 0.056219\n",
      "Accuracies after epoch 88: train 0.995238 - test 0.977381\n",
      "Cost after epoch 92: 0.053584\n",
      "Accuracies after epoch 92: train 0.995850 - test 0.978413\n",
      "Cost after epoch 96: 0.049778\n",
      "Accuracies after epoch 96: train 0.995850 - test 0.977222\n",
      "Cost after epoch 100: 0.050051\n",
      "Accuracies after epoch 100: train 0.996293 - test 0.977540\n",
      "Cost after epoch 104: 0.043353\n",
      "Accuracies after epoch 104: train 0.996769 - test 0.978651\n",
      "Cost after epoch 108: 0.042807\n",
      "Accuracies after epoch 108: train 0.997041 - test 0.978651\n",
      "Cost after epoch 112: 0.040166\n",
      "Accuracies after epoch 112: train 0.997245 - test 0.977302\n",
      "Cost after epoch 116: 0.039658\n",
      "Accuracies after epoch 116: train 0.997211 - test 0.977540\n",
      "Cost after epoch 120: 0.035593\n",
      "Accuracies after epoch 120: train 0.997721 - test 0.977619\n",
      "Cost after epoch 124: 0.036099\n",
      "Accuracies after epoch 124: train 0.997653 - test 0.977619\n",
      "Cost after epoch 128: 0.033488\n",
      "Accuracies after epoch 128: train 0.997653 - test 0.978175\n",
      "Cost after epoch 132: 0.034515\n",
      "Accuracies after epoch 132: train 0.998027 - test 0.978968\n",
      "Cost after epoch 136: 0.032048\n",
      "Accuracies after epoch 136: train 0.998197 - test 0.978968\n",
      "Cost after epoch 140: 0.031670\n",
      "Accuracies after epoch 140: train 0.998129 - test 0.977857\n",
      "Cost after epoch 144: 0.029621\n",
      "Accuracies after epoch 144: train 0.998639 - test 0.979841\n",
      "Cost after epoch 148: 0.029643\n",
      "Accuracies after epoch 148: train 0.998537 - test 0.979444\n",
      "Cost after epoch 152: 0.025945\n",
      "Accuracies after epoch 152: train 0.998810 - test 0.979365\n",
      "Cost after epoch 156: 0.027988\n",
      "Accuracies after epoch 156: train 0.998707 - test 0.979048\n",
      "Cost after epoch 160: 0.026277\n",
      "Accuracies after epoch 160: train 0.998401 - test 0.979286\n",
      "Cost after epoch 164: 0.027497\n",
      "Accuracies after epoch 164: train 0.998946 - test 0.979921\n",
      "Cost after epoch 168: 0.024436\n",
      "Accuracies after epoch 168: train 0.998844 - test 0.979683\n",
      "Cost after epoch 172: 0.024075\n",
      "Accuracies after epoch 172: train 0.999014 - test 0.979444\n",
      "Cost after epoch 176: 0.024690\n",
      "Accuracies after epoch 176: train 0.999150 - test 0.980714\n",
      "Cost after epoch 180: 0.025006\n",
      "Accuracies after epoch 180: train 0.999014 - test 0.978889\n",
      "Cost after epoch 184: 0.022215\n",
      "Accuracies after epoch 184: train 0.999150 - test 0.979683\n",
      "Cost after epoch 188: 0.023038\n",
      "Accuracies after epoch 188: train 0.999150 - test 0.980000\n",
      "Cost after epoch 192: 0.024210\n",
      "Accuracies after epoch 192: train 0.998980 - test 0.978889\n",
      "Cost after epoch 196: 0.018972\n",
      "Accuracies after epoch 196: train 0.999150 - test 0.979286\n",
      "Cost after epoch 200: 0.021000\n",
      "Accuracies after epoch 200: train 0.999422 - test 0.979762\n",
      "Cost after epoch 204: 0.020129\n",
      "Accuracies after epoch 204: train 0.999558 - test 0.980397\n",
      "Cost after epoch 208: 0.019108\n",
      "Accuracies after epoch 208: train 0.999524 - test 0.979048\n",
      "Cost after epoch 212: 0.016276\n",
      "Accuracies after epoch 212: train 0.999490 - test 0.979603\n",
      "Cost after epoch 216: 0.017885\n",
      "Accuracies after epoch 216: train 0.999456 - test 0.980159\n",
      "Cost after epoch 220: 0.019189\n",
      "Accuracies after epoch 220: train 0.999388 - test 0.979365\n",
      "Cost after epoch 224: 0.018399\n",
      "Accuracies after epoch 224: train 0.999626 - test 0.980397\n",
      "Cost after epoch 228: 0.018488\n",
      "Accuracies after epoch 228: train 0.999592 - test 0.980317\n",
      "Cost after epoch 232: 0.015007\n",
      "Accuracies after epoch 232: train 0.999660 - test 0.980238\n",
      "Cost after epoch 236: 0.016254\n",
      "Accuracies after epoch 236: train 0.999592 - test 0.979683\n",
      "Cost after epoch 240: 0.019535\n",
      "Accuracies after epoch 240: train 0.999524 - test 0.980714\n",
      "Cost after epoch 244: 0.017083\n",
      "Accuracies after epoch 244: train 0.999762 - test 0.979762\n",
      "Cost after epoch 248: 0.015386\n",
      "Accuracies after epoch 248: train 0.999694 - test 0.979762\n",
      "Cost after epoch 252: 0.015863\n",
      "Accuracies after epoch 252: train 0.999592 - test 0.978968\n",
      "Cost after epoch 256: 0.014662\n",
      "Accuracies after epoch 256: train 0.999728 - test 0.980159\n",
      "Cost after epoch 260: 0.013828\n",
      "Accuracies after epoch 260: train 0.999626 - test 0.979841\n",
      "Cost after epoch 264: 0.016023\n",
      "Accuracies after epoch 264: train 0.999796 - test 0.980556\n",
      "Cost after epoch 268: 0.014499\n",
      "Accuracies after epoch 268: train 0.999694 - test 0.979841\n",
      "Cost after epoch 272: 0.015965\n",
      "Accuracies after epoch 272: train 0.999728 - test 0.979921\n",
      "Cost after epoch 276: 0.015394\n",
      "Accuracies after epoch 276: train 0.999728 - test 0.979603\n",
      "Cost after epoch 280: 0.015688\n",
      "Accuracies after epoch 280: train 0.999830 - test 0.980476\n",
      "Cost after epoch 284: 0.015183\n",
      "Accuracies after epoch 284: train 0.999762 - test 0.980635\n",
      "Cost after epoch 288: 0.012883\n",
      "Accuracies after epoch 288: train 0.999762 - test 0.979524\n",
      "Cost after epoch 292: 0.013298\n",
      "Accuracies after epoch 292: train 0.999898 - test 0.980873\n",
      "Cost after epoch 296: 0.013006\n",
      "Accuracies after epoch 296: train 0.999898 - test 0.981111\n",
      "Train Accuracy: 0.999966\n",
      "Test Accuracy: 0.981508\n",
      "X_compo: (784, 28000)\n",
      "Prediction saved!\n"
     ]
    },
    {
     "data": {
      "image/png": "[encoded data removed]",
      "text/plain": [
       "<matplotlib.figure.Figure at 0x117fa7710>"
      ]
     },
     "metadata": {},
     "output_type": "display_data"
    },
    {
     "data": {
      "image/png": "[encoded data removed]",
      "text/plain": [
       "<matplotlib.figure.Figure at 0x10a4ac8d0>"
      ]
     },
     "metadata": {},
     "output_type": "display_data"
    }
   ],
   "source": [
    "model()"
   ]
  },
  {
   "cell_type": "code",
   "execution_count": null,
   "metadata": {
    "collapsed": true
   },
   "outputs": [],
   "source": []
  }
 ],
 "metadata": {
  "kernelspec": {
   "display_name": "Python 3",
   "language": "python",
   "name": "python3"
  },
  "language_info": {
   "codemirror_mode": {
    "name": "ipython",
    "version": 3
   },
   "file_extension": ".py",
   "mimetype": "text/x-python",
   "name": "python",
   "nbconvert_exporter": "python",
   "pygments_lexer": "ipython3",
   "version": "3.6.0"
  }
 },
 "nbformat": 4,
 "nbformat_minor": 2
}
